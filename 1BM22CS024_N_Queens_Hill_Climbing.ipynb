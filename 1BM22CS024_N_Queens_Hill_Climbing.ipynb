{
  "nbformat": 4,
  "nbformat_minor": 0,
  "metadata": {
    "colab": {
      "provenance": []
    },
    "kernelspec": {
      "name": "python3",
      "display_name": "Python 3"
    },
    "language_info": {
      "name": "python"
    }
  },
  "cells": [
    {
      "cell_type": "code",
      "execution_count": 1,
      "metadata": {
        "id": "lqwtFV_ecPy4"
      },
      "outputs": [],
      "source": [
        "initial = [3,1,2,0]\n",
        "goal_val = 0"
      ]
    },
    {
      "cell_type": "code",
      "source": [
        "def calculateCost(state):\n",
        "  cost = 0\n",
        "  size = len(state)\n",
        "  for i in range(size):\n",
        "    for j in range(i+1,size):\n",
        "      if abs(state[i]-state[j]) == abs(i-j) or state[i] == state[j]:\n",
        "        cost+=1\n",
        "  return cost"
      ],
      "metadata": {
        "id": "Qu8qS3Z7cfbd"
      },
      "execution_count": 9,
      "outputs": []
    },
    {
      "cell_type": "code",
      "source": [
        "def getNeighbours(state):\n",
        "  size = len(state)\n",
        "  curr_state = state[:]\n",
        "  neighbours = []\n",
        "  for i in range(size):\n",
        "    for j in range(i+1,size):\n",
        "       curr_state[j], curr_state[i] = state[i], state[j]\n",
        "       neighbours.append(curr_state)\n",
        "       curr_state = state[:]\n",
        "  return neighbours"
      ],
      "metadata": {
        "id": "XWhRGzuPc96G"
      },
      "execution_count": 8,
      "outputs": []
    },
    {
      "cell_type": "code",
      "source": [
        "def printBoard(state):\n",
        "  size = len(state)\n",
        "  board = [['_','_','_','_'] for i in range(size)]\n",
        "  for i in range(0,size):\n",
        "    board[state[i]][i] = 'Q'\n",
        "  display(board)"
      ],
      "metadata": {
        "id": "7_GRoFLTgKFt"
      },
      "execution_count": 7,
      "outputs": []
    },
    {
      "cell_type": "code",
      "source": [
        "def hillClimbing(initial, goal_val):\n",
        "  curr_state = initial[:]\n",
        "  curr_h = calculateCost(curr_state)\n",
        "  prev_h = curr_h\n",
        "\n",
        "  while(True):\n",
        "    neighbours = getNeighbours(curr_state)\n",
        "\n",
        "    for neighbour in neighbours:\n",
        "      cost = calculateCost(neighbour)\n",
        "      print('Neighbour: ',neighbour,', Cost: ',cost)\n",
        "      if cost < curr_h:\n",
        "        curr_h = cost\n",
        "        curr_state = neighbour\n",
        "\n",
        "    if curr_h == goal_val:\n",
        "      print(\"Goal reached\")\n",
        "      print('Answer: ',curr_state,', Cost: ',goal_val)\n",
        "      return\n",
        "\n",
        "    elif curr_h == prev_h:\n",
        "      print(\"Local minima reached at: \")\n",
        "      print(curr_state)\n",
        "      return\n",
        "\n",
        "    else:\n",
        "      prev_h = curr_h"
      ],
      "metadata": {
        "id": "M6TU7Z3hd0LG"
      },
      "execution_count": 4,
      "outputs": []
    },
    {
      "cell_type": "code",
      "source": [
        "hillClimbing(initial,goal_val)"
      ],
      "metadata": {
        "colab": {
          "base_uri": "https://localhost:8080/"
        },
        "id": "5Njs9JRff79S",
        "outputId": "a028ae76-0c9c-493b-b7f4-9ed36bc32098"
      },
      "execution_count": 10,
      "outputs": [
        {
          "output_type": "stream",
          "name": "stdout",
          "text": [
            "Neighbour:  [1, 3, 2, 0] , Cost:  1\n",
            "Neighbour:  [2, 1, 3, 0] , Cost:  1\n",
            "Neighbour:  [0, 1, 2, 3] , Cost:  6\n",
            "Neighbour:  [3, 2, 1, 0] , Cost:  6\n",
            "Neighbour:  [3, 0, 2, 1] , Cost:  1\n",
            "Neighbour:  [3, 1, 0, 2] , Cost:  1\n",
            "Neighbour:  [3, 1, 2, 0] , Cost:  2\n",
            "Neighbour:  [2, 3, 1, 0] , Cost:  2\n",
            "Neighbour:  [0, 3, 2, 1] , Cost:  4\n",
            "Neighbour:  [1, 2, 3, 0] , Cost:  4\n",
            "Neighbour:  [1, 0, 2, 3] , Cost:  2\n",
            "Neighbour:  [1, 3, 0, 2] , Cost:  0\n",
            "Goal reached\n",
            "Answer:  [1, 3, 0, 2] , Cost:  0\n"
          ]
        }
      ]
    }
  ]
}