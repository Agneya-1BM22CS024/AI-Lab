{
  "nbformat": 4,
  "nbformat_minor": 0,
  "metadata": {
    "colab": {
      "provenance": []
    },
    "kernelspec": {
      "name": "python3",
      "display_name": "Python 3"
    },
    "language_info": {
      "name": "python"
    }
  },
  "cells": [
    {
      "cell_type": "code",
      "execution_count": 1,
      "metadata": {
        "id": "lqwtFV_ecPy4"
      },
      "outputs": [],
      "source": [
        "initial = [3,1,2,0]\n",
        "goal_val = 0"
      ]
    },
    {
      "cell_type": "code",
      "source": [
        "def calculateCost(state):\n",
        "  cost = 0\n",
        "  size = len(state)\n",
        "  for i in range(size):\n",
        "    for j in range(i+1,size):\n",
        "      if abs(state[i]-state[j]) == abs(i-j) or state[i] == state[j]:\n",
        "        cost+=1\n",
        "  return cost"
      ],
      "metadata": {
        "id": "Qu8qS3Z7cfbd"
      },
      "execution_count": 9,
      "outputs": []
    },
    {
      "cell_type": "code",
      "source": [
        "def getNeighbours(state):\n",
        "  size = len(state)\n",
        "  curr_state = state[:]\n",
        "  neighbours = []\n",
        "  for i in range(size):\n",
        "    for j in range(i+1,size):\n",
        "       curr_state[j], curr_state[i] = state[i], state[j]\n",
        "       neighbours.append(curr_state)\n",
        "       curr_state = state[:]\n",
        "  return neighbours"
      ],
      "metadata": {
        "id": "XWhRGzuPc96G"
      },
      "execution_count": 8,
      "outputs": []
    },
    {
      "cell_type": "code",
      "source": [
        "def printBoard(state):\n",
        "  size = len(state)\n",
        "  board = [['_' for i in range(size)] for i in range(size)]\n",
        "  for i in range(0,size):\n",
        "    board[state[i]][i] = 'Q'\n",
        "  display(board)"
      ],
      "metadata": {
        "id": "7_GRoFLTgKFt"
      },
      "execution_count": 17,
      "outputs": []
    },
    {
      "cell_type": "code",
      "source": [
        "def hillClimbing(initial, goal_val):\n",
        "  curr_state = initial[:]\n",
        "  curr_h = calculateCost(curr_state)\n",
        "  prev_h = curr_h\n",
        "\n",
        "  while(True):\n",
        "    neighbours = getNeighbours(curr_state)\n",
        "\n",
        "    for neighbour in neighbours:\n",
        "      cost = calculateCost(neighbour)\n",
        "      print('Neighbour: ',neighbour,', Cost: ',cost)\n",
        "      if cost < curr_h:\n",
        "        curr_h = cost\n",
        "        curr_state = neighbour\n",
        "\n",
        "    if curr_h == goal_val:\n",
        "      print(\"Goal reached\")\n",
        "      print('Answer: ',curr_state,', Cost: ',goal_val)\n",
        "      printBoard(curr_state)\n",
        "      return\n",
        "\n",
        "    elif curr_h == prev_h:\n",
        "      print(\"Local minima reached at: \")\n",
        "      print(curr_state)\n",
        "      printBoard(curr_state)\n",
        "      return\n",
        "\n",
        "    else:\n",
        "      prev_h = curr_h"
      ],
      "metadata": {
        "id": "M6TU7Z3hd0LG"
      },
      "execution_count": 14,
      "outputs": []
    },
    {
      "cell_type": "code",
      "source": [
        "hillClimbing(initial,goal_val)"
      ],
      "metadata": {
        "colab": {
          "base_uri": "https://localhost:8080/",
          "height": 329
        },
        "id": "5Njs9JRff79S",
        "outputId": "b6a99348-7401-4952-d06a-f427d88b16b9"
      },
      "execution_count": 12,
      "outputs": [
        {
          "output_type": "stream",
          "name": "stdout",
          "text": [
            "Neighbour:  [1, 3, 2, 0] , Cost:  1\n",
            "Neighbour:  [2, 1, 3, 0] , Cost:  1\n",
            "Neighbour:  [0, 1, 2, 3] , Cost:  6\n",
            "Neighbour:  [3, 2, 1, 0] , Cost:  6\n",
            "Neighbour:  [3, 0, 2, 1] , Cost:  1\n",
            "Neighbour:  [3, 1, 0, 2] , Cost:  1\n",
            "Neighbour:  [3, 1, 2, 0] , Cost:  2\n",
            "Neighbour:  [2, 3, 1, 0] , Cost:  2\n",
            "Neighbour:  [0, 3, 2, 1] , Cost:  4\n",
            "Neighbour:  [1, 2, 3, 0] , Cost:  4\n",
            "Neighbour:  [1, 0, 2, 3] , Cost:  2\n",
            "Neighbour:  [1, 3, 0, 2] , Cost:  0\n",
            "Goal reached\n",
            "Answer:  [1, 3, 0, 2] , Cost:  0\n"
          ]
        },
        {
          "output_type": "display_data",
          "data": {
            "text/plain": [
              "[['_', '_', 'Q', '_'],\n",
              " ['Q', '_', '_', '_'],\n",
              " ['_', '_', '_', 'Q'],\n",
              " ['_', 'Q', '_', '_']]"
            ]
          },
          "metadata": {}
        }
      ]
    },
    {
      "cell_type": "code",
      "source": [
        "hillClimbing([0,0,0,0],goal_val)"
      ],
      "metadata": {
        "colab": {
          "base_uri": "https://localhost:8080/",
          "height": 225
        },
        "id": "kitFy1ziiK-F",
        "outputId": "6ae4d19f-fdd0-46f1-c845-7eddf929a753"
      },
      "execution_count": 15,
      "outputs": [
        {
          "output_type": "stream",
          "name": "stdout",
          "text": [
            "Neighbour:  [0, 0, 0, 0] , Cost:  6\n",
            "Neighbour:  [0, 0, 0, 0] , Cost:  6\n",
            "Neighbour:  [0, 0, 0, 0] , Cost:  6\n",
            "Neighbour:  [0, 0, 0, 0] , Cost:  6\n",
            "Neighbour:  [0, 0, 0, 0] , Cost:  6\n",
            "Neighbour:  [0, 0, 0, 0] , Cost:  6\n",
            "Local minima reached at: \n",
            "[0, 0, 0, 0]\n"
          ]
        },
        {
          "output_type": "display_data",
          "data": {
            "text/plain": [
              "[['Q', 'Q', 'Q', 'Q'],\n",
              " ['_', '_', '_', '_'],\n",
              " ['_', '_', '_', '_'],\n",
              " ['_', '_', '_', '_']]"
            ]
          },
          "metadata": {}
        }
      ]
    },
    {
      "cell_type": "code",
      "source": [
        "hillClimbing([6,4,0,1,2,3,5,7],goal_val)"
      ],
      "metadata": {
        "colab": {
          "base_uri": "https://localhost:8080/",
          "height": 1000
        },
        "id": "_ihRLkYBifp-",
        "outputId": "cc32c43e-1672-485b-a446-f428fbb80d10"
      },
      "execution_count": 22,
      "outputs": [
        {
          "output_type": "stream",
          "name": "stdout",
          "text": [
            "Neighbour:  [4, 6, 0, 1, 2, 3, 5, 7] , Cost:  7\n",
            "Neighbour:  [0, 4, 6, 1, 2, 3, 5, 7] , Cost:  5\n",
            "Neighbour:  [1, 4, 0, 6, 2, 3, 5, 7] , Cost:  4\n",
            "Neighbour:  [2, 4, 0, 1, 6, 3, 5, 7] , Cost:  5\n",
            "Neighbour:  [3, 4, 0, 1, 2, 6, 5, 7] , Cost:  5\n",
            "Neighbour:  [5, 4, 0, 1, 2, 3, 6, 7] , Cost:  8\n",
            "Neighbour:  [7, 4, 0, 1, 2, 3, 5, 6] , Cost:  7\n",
            "Neighbour:  [6, 0, 4, 1, 2, 3, 5, 7] , Cost:  7\n",
            "Neighbour:  [6, 1, 0, 4, 2, 3, 5, 7] , Cost:  6\n",
            "Neighbour:  [6, 2, 0, 1, 4, 3, 5, 7] , Cost:  5\n",
            "Neighbour:  [6, 3, 0, 1, 2, 4, 5, 7] , Cost:  6\n",
            "Neighbour:  [6, 5, 0, 1, 2, 3, 4, 7] , Cost:  13\n",
            "Neighbour:  [6, 7, 0, 1, 2, 3, 5, 4] , Cost:  10\n",
            "Neighbour:  [6, 4, 1, 0, 2, 3, 5, 7] , Cost:  4\n",
            "Neighbour:  [6, 4, 2, 1, 0, 3, 5, 7] , Cost:  5\n",
            "Neighbour:  [6, 4, 3, 1, 2, 0, 5, 7] , Cost:  5\n",
            "Neighbour:  [6, 4, 5, 1, 2, 3, 0, 7] , Cost:  7\n",
            "Neighbour:  [6, 4, 7, 1, 2, 3, 5, 0] , Cost:  4\n",
            "Neighbour:  [6, 4, 0, 2, 1, 3, 5, 7] , Cost:  5\n",
            "Neighbour:  [6, 4, 0, 3, 2, 1, 5, 7] , Cost:  8\n",
            "Neighbour:  [6, 4, 0, 5, 2, 3, 1, 7] , Cost:  5\n",
            "Neighbour:  [6, 4, 0, 7, 2, 3, 5, 1] , Cost:  5\n",
            "Neighbour:  [6, 4, 0, 1, 3, 2, 5, 7] , Cost:  3\n",
            "Neighbour:  [6, 4, 0, 1, 5, 3, 2, 7] , Cost:  4\n",
            "Neighbour:  [6, 4, 0, 1, 7, 3, 5, 2] , Cost:  5\n",
            "Neighbour:  [6, 4, 0, 1, 2, 5, 3, 7] , Cost:  5\n",
            "Neighbour:  [6, 4, 0, 1, 2, 7, 5, 3] , Cost:  4\n",
            "Neighbour:  [6, 4, 0, 1, 2, 3, 7, 5] , Cost:  11\n",
            "Neighbour:  [4, 6, 0, 1, 3, 2, 5, 7] , Cost:  6\n",
            "Neighbour:  [0, 4, 6, 1, 3, 2, 5, 7] , Cost:  3\n",
            "Neighbour:  [1, 4, 0, 6, 3, 2, 5, 7] , Cost:  3\n",
            "Neighbour:  [3, 4, 0, 1, 6, 2, 5, 7] , Cost:  2\n",
            "Neighbour:  [2, 4, 0, 1, 3, 6, 5, 7] , Cost:  4\n",
            "Neighbour:  [5, 4, 0, 1, 3, 2, 6, 7] , Cost:  4\n",
            "Neighbour:  [7, 4, 0, 1, 3, 2, 5, 6] , Cost:  7\n",
            "Neighbour:  [6, 0, 4, 1, 3, 2, 5, 7] , Cost:  5\n",
            "Neighbour:  [6, 1, 0, 4, 3, 2, 5, 7] , Cost:  6\n",
            "Neighbour:  [6, 3, 0, 1, 4, 2, 5, 7] , Cost:  3\n",
            "Neighbour:  [6, 2, 0, 1, 3, 4, 5, 7] , Cost:  4\n",
            "Neighbour:  [6, 5, 0, 1, 3, 2, 4, 7] , Cost:  5\n",
            "Neighbour:  [6, 7, 0, 1, 3, 2, 5, 4] , Cost:  6\n",
            "Neighbour:  [6, 4, 1, 0, 3, 2, 5, 7] , Cost:  6\n",
            "Neighbour:  [6, 4, 3, 1, 0, 2, 5, 7] , Cost:  2\n",
            "Neighbour:  [6, 4, 2, 1, 3, 0, 5, 7] , Cost:  4\n",
            "Neighbour:  [6, 4, 5, 1, 3, 2, 0, 7] , Cost:  5\n",
            "Neighbour:  [6, 4, 7, 1, 3, 2, 5, 0] , Cost:  4\n",
            "Neighbour:  [6, 4, 0, 3, 1, 2, 5, 7] , Cost:  4\n",
            "Neighbour:  [6, 4, 0, 2, 3, 1, 5, 7] , Cost:  5\n",
            "Neighbour:  [6, 4, 0, 5, 3, 2, 1, 7] , Cost:  3\n",
            "Neighbour:  [6, 4, 0, 7, 3, 2, 5, 1] , Cost:  2\n",
            "Neighbour:  [6, 4, 0, 1, 2, 3, 5, 7] , Cost:  7\n",
            "Neighbour:  [6, 4, 0, 1, 5, 2, 3, 7] , Cost:  3\n",
            "Neighbour:  [6, 4, 0, 1, 7, 2, 5, 3] , Cost:  3\n",
            "Neighbour:  [6, 4, 0, 1, 3, 5, 2, 7] , Cost:  2\n",
            "Neighbour:  [6, 4, 0, 1, 3, 7, 5, 2] , Cost:  2\n",
            "Neighbour:  [6, 4, 0, 1, 3, 2, 7, 5] , Cost:  4\n",
            "Neighbour:  [4, 3, 0, 1, 6, 2, 5, 7] , Cost:  5\n",
            "Neighbour:  [0, 4, 3, 1, 6, 2, 5, 7] , Cost:  2\n",
            "Neighbour:  [1, 4, 0, 3, 6, 2, 5, 7] , Cost:  1\n",
            "Neighbour:  [6, 4, 0, 1, 3, 2, 5, 7] , Cost:  3\n",
            "Neighbour:  [2, 4, 0, 1, 6, 3, 5, 7] , Cost:  5\n",
            "Neighbour:  [5, 4, 0, 1, 6, 2, 3, 7] , Cost:  3\n",
            "Neighbour:  [7, 4, 0, 1, 6, 2, 5, 3] , Cost:  3\n",
            "Neighbour:  [3, 0, 4, 1, 6, 2, 5, 7] , Cost:  2\n",
            "Neighbour:  [3, 1, 0, 4, 6, 2, 5, 7] , Cost:  3\n",
            "Neighbour:  [3, 6, 0, 1, 4, 2, 5, 7] , Cost:  3\n",
            "Neighbour:  [3, 2, 0, 1, 6, 4, 5, 7] , Cost:  3\n",
            "Neighbour:  [3, 5, 0, 1, 6, 2, 4, 7] , Cost:  4\n",
            "Neighbour:  [3, 7, 0, 1, 6, 2, 5, 4] , Cost:  3\n",
            "Neighbour:  [3, 4, 1, 0, 6, 2, 5, 7] , Cost:  6\n",
            "Neighbour:  [3, 4, 6, 1, 0, 2, 5, 7] , Cost:  2\n",
            "Neighbour:  [3, 4, 2, 1, 6, 0, 5, 7] , Cost:  4\n",
            "Neighbour:  [3, 4, 5, 1, 6, 2, 0, 7] , Cost:  4\n",
            "Neighbour:  [3, 4, 7, 1, 6, 2, 5, 0] , Cost:  2\n",
            "Neighbour:  [3, 4, 0, 6, 1, 2, 5, 7] , Cost:  5\n",
            "Neighbour:  [3, 4, 0, 2, 6, 1, 5, 7] , Cost:  3\n",
            "Neighbour:  [3, 4, 0, 5, 6, 2, 1, 7] , Cost:  3\n",
            "Neighbour:  [3, 4, 0, 7, 6, 2, 5, 1] , Cost:  2\n",
            "Neighbour:  [3, 4, 0, 1, 2, 6, 5, 7] , Cost:  5\n",
            "Neighbour:  [3, 4, 0, 1, 5, 2, 6, 7] , Cost:  3\n",
            "Neighbour:  [3, 4, 0, 1, 7, 2, 5, 6] , Cost:  6\n",
            "Neighbour:  [3, 4, 0, 1, 6, 5, 2, 7] , Cost:  4\n",
            "Neighbour:  [3, 4, 0, 1, 6, 7, 5, 2] , Cost:  3\n",
            "Neighbour:  [3, 4, 0, 1, 6, 2, 7, 5] , Cost:  4\n",
            "Neighbour:  [4, 1, 0, 3, 6, 2, 5, 7] , Cost:  4\n",
            "Neighbour:  [0, 4, 1, 3, 6, 2, 5, 7] , Cost:  4\n",
            "Neighbour:  [3, 4, 0, 1, 6, 2, 5, 7] , Cost:  2\n",
            "Neighbour:  [6, 4, 0, 3, 1, 2, 5, 7] , Cost:  4\n",
            "Neighbour:  [2, 4, 0, 3, 6, 1, 5, 7] , Cost:  4\n",
            "Neighbour:  [5, 4, 0, 3, 6, 2, 1, 7] , Cost:  3\n",
            "Neighbour:  [7, 4, 0, 3, 6, 2, 5, 1] , Cost:  1\n",
            "Neighbour:  [1, 0, 4, 3, 6, 2, 5, 7] , Cost:  5\n",
            "Neighbour:  [1, 3, 0, 4, 6, 2, 5, 7] , Cost:  3\n",
            "Neighbour:  [1, 6, 0, 3, 4, 2, 5, 7] , Cost:  4\n",
            "Neighbour:  [1, 2, 0, 3, 6, 4, 5, 7] , Cost:  3\n",
            "Neighbour:  [1, 5, 0, 3, 6, 2, 4, 7] , Cost:  4\n",
            "Neighbour:  [1, 7, 0, 3, 6, 2, 5, 4] , Cost:  2\n",
            "Neighbour:  [1, 4, 3, 0, 6, 2, 5, 7] , Cost:  3\n",
            "Neighbour:  [1, 4, 6, 3, 0, 2, 5, 7] , Cost:  1\n",
            "Neighbour:  [1, 4, 2, 3, 6, 0, 5, 7] , Cost:  4\n",
            "Neighbour:  [1, 4, 5, 3, 6, 2, 0, 7] , Cost:  4\n",
            "Neighbour:  [1, 4, 7, 3, 6, 2, 5, 0] , Cost:  1\n",
            "Neighbour:  [1, 4, 0, 6, 3, 2, 5, 7] , Cost:  3\n",
            "Neighbour:  [1, 4, 0, 2, 6, 3, 5, 7] , Cost:  3\n",
            "Neighbour:  [1, 4, 0, 5, 6, 2, 3, 7] , Cost:  2\n",
            "Neighbour:  [1, 4, 0, 7, 6, 2, 5, 3] , Cost:  3\n",
            "Neighbour:  [1, 4, 0, 3, 2, 6, 5, 7] , Cost:  5\n",
            "Neighbour:  [1, 4, 0, 3, 5, 2, 6, 7] , Cost:  4\n",
            "Neighbour:  [1, 4, 0, 3, 7, 2, 5, 6] , Cost:  3\n",
            "Neighbour:  [1, 4, 0, 3, 6, 5, 2, 7] , Cost:  4\n",
            "Neighbour:  [1, 4, 0, 3, 6, 7, 5, 2] , Cost:  1\n",
            "Neighbour:  [1, 4, 0, 3, 6, 2, 7, 5] , Cost:  2\n",
            "Local minima reached at: \n",
            "[1, 4, 0, 3, 6, 2, 5, 7]\n"
          ]
        },
        {
          "output_type": "display_data",
          "data": {
            "text/plain": [
              "[['_', '_', 'Q', '_', '_', '_', '_', '_'],\n",
              " ['Q', '_', '_', '_', '_', '_', '_', '_'],\n",
              " ['_', '_', '_', '_', '_', 'Q', '_', '_'],\n",
              " ['_', '_', '_', 'Q', '_', '_', '_', '_'],\n",
              " ['_', 'Q', '_', '_', '_', '_', '_', '_'],\n",
              " ['_', '_', '_', '_', '_', '_', 'Q', '_'],\n",
              " ['_', '_', '_', '_', 'Q', '_', '_', '_'],\n",
              " ['_', '_', '_', '_', '_', '_', '_', 'Q']]"
            ]
          },
          "metadata": {}
        }
      ]
    }
  ]
}