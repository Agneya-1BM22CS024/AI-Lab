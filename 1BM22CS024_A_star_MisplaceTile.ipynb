{
  "nbformat": 4,
  "nbformat_minor": 0,
  "metadata": {
    "colab": {
      "provenance": []
    },
    "kernelspec": {
      "name": "python3",
      "display_name": "Python 3"
    },
    "language_info": {
      "name": "python"
    }
  },
  "cells": [
    {
      "cell_type": "code",
      "source": [
        "import copy\n",
        "\n",
        "initial = [[2, 8, 3], [1, 6, 4], [7, 0, 5]]\n",
        "goal = [[1, 2, 3], [8, 0, 4], [7, 6, 5]]\n",
        "posZero = [2, 1]\n",
        "visited = [initial]\n",
        "\n",
        "def findZero(state):\n",
        "    for i in range(3):\n",
        "        for j in range(3):\n",
        "            if state[i][j] == 0:\n",
        "                return [i, j]\n",
        "\n",
        "def misplacedTile(state):\n",
        "    h = 0\n",
        "    for i in range(3):\n",
        "        for j in range(3):\n",
        "            if state[i][j] != 0 and state[i][j] != goal[i][j]:\n",
        "                h += 1\n",
        "    return h\n",
        "\n",
        "def aStar(start, zeroPos, g, h_func):\n",
        "    if start == goal:\n",
        "        print(\"Goal reached:\", start)\n",
        "        print(\"Steps:\", g)\n",
        "        return True\n",
        "\n",
        "    neighbours = []\n",
        "    h_values = []\n",
        "    directions = [(1, 0), (0, 1), (-1, 0), (0, -1)]\n",
        "\n",
        "    for x, y in directions:\n",
        "        new_zero_pos = [zeroPos[0] + x, zeroPos[1] + y]\n",
        "        if 0 <= new_zero_pos[0] <= 2 and 0 <= new_zero_pos[1] <= 2:\n",
        "            currState = copy.deepcopy(start)\n",
        "            currState[zeroPos[0]][zeroPos[1]] = currState[new_zero_pos[0]][new_zero_pos[1]]\n",
        "            currState[new_zero_pos[0]][new_zero_pos[1]] = 0\n",
        "\n",
        "            if currState not in visited:\n",
        "                neighbours.append(currState)\n",
        "                h_values.append(h_func(currState))\n",
        "                print(\"State:\", currState)\n",
        "                print(\"h =\", h_func(currState))\n",
        "                print(\"g =\", g)\n",
        "                print(\"f =\", h_func(currState) + g, \"\\n\")\n",
        "\n",
        "    if not neighbours:\n",
        "        print(\"Solution unreachable\")\n",
        "        return False\n",
        "\n",
        "    min_f_index = h_values.index(min(h_values))\n",
        "    min_state = neighbours[min_f_index]\n",
        "\n",
        "    visited.append(min_state)\n",
        "\n",
        "    return aStar(min_state, findZero(min_state), g + 1, h_func)\n",
        "\n",
        "aStar(initial, posZero, 0, misplacedTile)\n"
      ],
      "metadata": {
        "id": "HZjtsBsRVKiR",
        "colab": {
          "base_uri": "https://localhost:8080/"
        },
        "outputId": "d8bf977d-d8f9-432e-f673-74850a0d169e"
      },
      "execution_count": 3,
      "outputs": [
        {
          "output_type": "stream",
          "name": "stdout",
          "text": [
            "State: [[2, 8, 3], [1, 6, 4], [7, 5, 0]]\n",
            "h = 5\n",
            "g = 0\n",
            "f = 5 \n",
            "\n",
            "State: [[2, 8, 3], [1, 0, 4], [7, 6, 5]]\n",
            "h = 3\n",
            "g = 0\n",
            "f = 3 \n",
            "\n",
            "State: [[2, 8, 3], [1, 6, 4], [0, 7, 5]]\n",
            "h = 5\n",
            "g = 0\n",
            "f = 5 \n",
            "\n",
            "State: [[2, 8, 3], [1, 4, 0], [7, 6, 5]]\n",
            "h = 4\n",
            "g = 1\n",
            "f = 5 \n",
            "\n",
            "State: [[2, 0, 3], [1, 8, 4], [7, 6, 5]]\n",
            "h = 3\n",
            "g = 1\n",
            "f = 4 \n",
            "\n",
            "State: [[2, 8, 3], [0, 1, 4], [7, 6, 5]]\n",
            "h = 3\n",
            "g = 1\n",
            "f = 4 \n",
            "\n",
            "State: [[2, 3, 0], [1, 8, 4], [7, 6, 5]]\n",
            "h = 4\n",
            "g = 2\n",
            "f = 6 \n",
            "\n",
            "State: [[0, 2, 3], [1, 8, 4], [7, 6, 5]]\n",
            "h = 2\n",
            "g = 2\n",
            "f = 4 \n",
            "\n",
            "State: [[1, 2, 3], [0, 8, 4], [7, 6, 5]]\n",
            "h = 1\n",
            "g = 3\n",
            "f = 4 \n",
            "\n",
            "State: [[1, 2, 3], [7, 8, 4], [0, 6, 5]]\n",
            "h = 2\n",
            "g = 4\n",
            "f = 6 \n",
            "\n",
            "State: [[1, 2, 3], [8, 0, 4], [7, 6, 5]]\n",
            "h = 0\n",
            "g = 4\n",
            "f = 4 \n",
            "\n",
            "Goal reached: [[1, 2, 3], [8, 0, 4], [7, 6, 5]]\n",
            "Steps: 5\n"
          ]
        },
        {
          "output_type": "execute_result",
          "data": {
            "text/plain": [
              "True"
            ]
          },
          "metadata": {},
          "execution_count": 3
        }
      ]
    }
  ]
}