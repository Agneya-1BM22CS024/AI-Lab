{
  "nbformat": 4,
  "nbformat_minor": 0,
  "metadata": {
    "colab": {
      "provenance": []
    },
    "kernelspec": {
      "name": "python3",
      "display_name": "Python 3"
    },
    "language_info": {
      "name": "python"
    }
  },
  "cells": [
    {
      "cell_type": "code",
      "source": [
        "# Unification Algorithm for First-Order Logic\n",
        "\n",
        "class Term:\n",
        "    def __init__(self, symbol, args=None):\n",
        "        self.symbol = symbol\n",
        "        self.args = args or []\n",
        "\n",
        "    def __repr__(self):\n",
        "        if not self.args:\n",
        "            return self.symbol\n",
        "        else:\n",
        "            return f\"{self.symbol}({', '.join(map(str, self.args))})\"\n",
        "\n",
        "    def __eq__(self, other):\n",
        "        return self.symbol == other.symbol and self.args == other.args\n",
        "\n",
        "class Variable(Term):\n",
        "    def __init__(self, name):\n",
        "        super().__init__(name)\n",
        "        self.name = name\n",
        "\n",
        "    def __repr__(self):\n",
        "        return self.name\n",
        "\n",
        "\n",
        "def occurs_check(variable, term):\n",
        "    \"\"\"Checks for the occurs check (whether a variable appears in a term)\"\"\"\n",
        "    if variable == term:\n",
        "        return True\n",
        "    elif isinstance(term, Term):\n",
        "        return any(occurs_check(variable, arg) for arg in term.args)\n",
        "    return False\n",
        "\n",
        "\n",
        "def unify(term1, term2, substitution=None):\n",
        "    \"\"\"Unifies two terms with a given substitution\"\"\"\n",
        "    substitution = substitution or {}\n",
        "\n",
        "    # Case 1: Both terms are the same\n",
        "    if term1 == term2:\n",
        "        return substitution\n",
        "\n",
        "    # Case 2: Term1 is a variable\n",
        "    if isinstance(term1, Variable):\n",
        "        if term1.name in substitution:\n",
        "            return unify(substitution[term1.name], term2, substitution)\n",
        "        elif occurs_check(term1, term2):\n",
        "            raise Exception(f\"Occurs check failed: {term1} cannot be unified with {term2}\")\n",
        "        else:\n",
        "            substitution[term1.name] = term2\n",
        "            return substitution\n",
        "\n",
        "    # Case 3: Term2 is a variable\n",
        "    if isinstance(term2, Variable):\n",
        "        if term2.name in substitution:\n",
        "            return unify(term1, substitution[term2.name], substitution)\n",
        "        elif occurs_check(term2, term1):\n",
        "            raise Exception(f\"Occurs check failed: {term2} cannot be unified with {term1}\")\n",
        "        else:\n",
        "            substitution[term2.name] = term1\n",
        "            return substitution\n",
        "\n",
        "    # Case 4: Both are compound terms (functions with arguments)\n",
        "    if isinstance(term1, Term) and isinstance(term2, Term):\n",
        "        if term1.symbol != term2.symbol or len(term1.args) != len(term2.args):\n",
        "            raise Exception(f\"Cannot unify {term1} with {term2}: Different functions or arity\")\n",
        "        for arg1, arg2 in zip(term1.args, term2.args):\n",
        "            substitution = unify(arg1, arg2, substitution)\n",
        "        return substitution\n",
        "\n",
        "    raise Exception(f\"Cannot unify {term1} with {term2}: Incompatible terms\")\n",
        "\n",
        "\n",
        "# Example Usage:\n",
        "\n",
        "# Define terms and variables\n",
        "x = Variable('x')\n",
        "y = Variable('y')\n",
        "a = Variable('a')\n",
        "f = Term('Sibling', [x, a])\n",
        "print(f\"{f}\");\n",
        "g = Term('Sibling', [y, a])\n",
        "print(f\"{g}\")\n",
        "\n",
        "# Unify terms\n",
        "try:\n",
        "    result = unify(f, g)\n",
        "    print(\"Unification successful. Substitution:\", result)\n",
        "except Exception as e:\n",
        "    print(\"Unification failed:\", str(e))\n",
        "\n"
      ],
      "metadata": {
        "colab": {
          "base_uri": "https://localhost:8080/"
        },
        "id": "fT7pwJhKpQpa",
        "outputId": "8f912792-e8d5-474e-91d3-221549b186f6"
      },
      "execution_count": 8,
      "outputs": [
        {
          "output_type": "stream",
          "name": "stdout",
          "text": [
            "Sibling(x, a)\n",
            "Sibling(y, a)\n",
            "Unification successful. Substitution: {'x': y}\n"
          ]
        }
      ]
    },
    {
      "cell_type": "code",
      "source": [
        "# Define terms and variables\n",
        "x = Variable('x')\n",
        "y = Variable('y')\n",
        "a = Variable('a')\n",
        "f = Term('enemy', [x, a])\n",
        "print(f\"{f}\");\n",
        "g = Term('friend', [y, a])\n",
        "print(f\"{g}\")\n",
        "\n",
        "# Unify terms\n",
        "try:\n",
        "    result = unify(f, g)\n",
        "    print(\"Unification successful. Substitution:\", result)\n",
        "except Exception as e:\n",
        "    print(\"Unification failed:\", str(e))\n"
      ],
      "metadata": {
        "colab": {
          "base_uri": "https://localhost:8080/"
        },
        "id": "N_aJW410sLC6",
        "outputId": "743424b4-c1f0-4973-cec0-1257de5d484b"
      },
      "execution_count": 7,
      "outputs": [
        {
          "output_type": "stream",
          "name": "stdout",
          "text": [
            "enemy(x, a)\n",
            "friend(y, a)\n",
            "Unification failed: Cannot unify enemy(x, a) with friend(y, a): Different functions or arity\n"
          ]
        }
      ]
    }
  ]
}