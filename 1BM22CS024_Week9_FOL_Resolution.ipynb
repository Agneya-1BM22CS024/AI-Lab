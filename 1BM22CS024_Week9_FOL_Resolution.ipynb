{
  "nbformat": 4,
  "nbformat_minor": 0,
  "metadata": {
    "colab": {
      "provenance": []
    },
    "kernelspec": {
      "name": "python3",
      "display_name": "Python 3"
    },
    "language_info": {
      "name": "python"
    }
  },
  "cells": [
    {
      "cell_type": "code",
      "execution_count": 11,
      "metadata": {
        "id": "wxBCdhrCuOtX"
      },
      "outputs": [],
      "source": [
        "# Simple Resolution Algorithm for First-Order Logic\n",
        "\n",
        "# Clause class to represent disjunctions of literals\n",
        "class Clause:\n",
        "    def __init__(self, literals):\n",
        "        self.literals = literals\n",
        "\n",
        "    def __repr__(self):\n",
        "        if len(self.literals) == 1:\n",
        "            return self.literals[0]\n",
        "        return \" ∨ \".join(self.literals)\n",
        "\n",
        "# Resolution function\n",
        "def resolve(clause1, clause2):\n",
        "    for literal1 in clause1.literals:\n",
        "        for literal2 in clause2.literals:\n",
        "            if literal1 == f\"~{literal2}\" or literal2 == f\"~{literal1}\":\n",
        "                new_literals = list(set(clause1.literals + clause2.literals))\n",
        "                new_literals.remove(literal1)\n",
        "                new_literals.remove(literal2)\n",
        "                return Clause(new_literals)\n",
        "    return None\n",
        "\n",
        "# Resolution algorithm to check if a query can be resolved to an empty clause\n",
        "def resolution(clauses, query):\n",
        "    clauses.append(Clause([f\"~{query}\"]))  # Negate the query\n",
        "    while True:\n",
        "        new_clauses = []\n",
        "        for i in range(len(clauses)):\n",
        "            for j in range(i + 1, len(clauses)):\n",
        "                resolvent = resolve(clauses[i], clauses[j])\n",
        "                if resolvent is not None:\n",
        "                    if not resolvent.literals:\n",
        "                        return True  # Empty clause found\n",
        "                    new_clauses.append(resolvent)\n",
        "        if not new_clauses:\n",
        "            return False  # No new clauses generated, query cannot be resolved\n",
        "        clauses.extend(new_clauses)\n"
      ]
    },
    {
      "cell_type": "code",
      "source": [
        "# Example use case from the PPT\n",
        "if __name__ == \"__main__\":\n",
        "    # Knowledge base: P ∨ Q, ~P ∨ R, ~Q ∨ ~R\n",
        "    clauses = [\n",
        "        Clause([\"P\", \"Q\"]),\n",
        "        Clause([\"~P\", \"R\"]),\n",
        "        Clause([\"~Q\", \"~R\"]),\n",
        "    ]\n",
        "\n",
        "    # Query: R\n",
        "    query = \"R\"\n",
        "\n",
        "    result = resolution(clauses, query)\n",
        "    print(\"Result:\", \"Query is true\" if result else \"Query is false\")"
      ],
      "metadata": {
        "colab": {
          "base_uri": "https://localhost:8080/"
        },
        "id": "z8Wq9GqRxOZu",
        "outputId": "932574ab-c382-4791-cd26-379883409bde"
      },
      "execution_count": 12,
      "outputs": [
        {
          "output_type": "stream",
          "name": "stdout",
          "text": [
            "Result: Query is true\n"
          ]
        }
      ]
    }
  ]
}