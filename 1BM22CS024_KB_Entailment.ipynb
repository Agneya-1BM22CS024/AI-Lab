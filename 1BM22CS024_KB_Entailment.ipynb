{
  "nbformat": 4,
  "nbformat_minor": 0,
  "metadata": {
    "colab": {
      "provenance": []
    },
    "kernelspec": {
      "name": "python3",
      "display_name": "Python 3"
    },
    "language_info": {
      "name": "python"
    }
  },
  "cells": [
    {
      "cell_type": "code",
      "execution_count": 13,
      "metadata": {
        "id": "rJB9O7R5sdxq"
      },
      "outputs": [],
      "source": [
        "def imp(P,Q):\n",
        "  if P==True and Q == False:\n",
        "    return False\n",
        "  else:\n",
        "    return True\n",
        "\n",
        "def neg_imp(P,Q):\n",
        "  if P==True and Q==True:\n",
        "    return False\n",
        "  return True\n",
        "\n",
        "def entail(KB,alpha):\n",
        "  for i in range(0,len(KB)):\n",
        "    if (KB[i] == True) and (alpha[i] == False):\n",
        "      return False\n",
        "\n",
        "  return True"
      ]
    },
    {
      "cell_type": "code",
      "source": [
        "P_col = []\n",
        "for i in range(0,8):\n",
        "  if i<=3:\n",
        "    P_col.append(False)\n",
        "  else:\n",
        "    P_col.append(True)\n",
        "\n",
        "Q_col = []\n",
        "curr = False\n",
        "for i in range(0,4):\n",
        "  Q_col.append(curr)\n",
        "  Q_col.append(curr)\n",
        "  curr = not curr\n",
        "\n",
        "R_col = []\n",
        "for i in range(0,8):\n",
        "  R_col.append(i%2==1)\n",
        "\n",
        "print(P_col)\n",
        "print(Q_col)\n",
        "print(R_col)"
      ],
      "metadata": {
        "colab": {
          "base_uri": "https://localhost:8080/"
        },
        "id": "ZJbqPL-Et5Ai",
        "outputId": "f21251c6-ddf1-45d0-f41e-9672f1bbfdec"
      },
      "execution_count": 2,
      "outputs": [
        {
          "output_type": "stream",
          "name": "stdout",
          "text": [
            "[False, False, False, False, True, True, True, True]\n",
            "[False, False, True, True, False, False, True, True]\n",
            "[False, True, False, True, False, True, False, True]\n"
          ]
        }
      ]
    },
    {
      "cell_type": "code",
      "source": [
        "Q_imp_P = [imp(Q_col[i],P_col[i]) for i in range(8)]\n",
        "Q_imp_P"
      ],
      "metadata": {
        "colab": {
          "base_uri": "https://localhost:8080/"
        },
        "id": "zAgJdjIDvPuZ",
        "outputId": "b9d6e3d0-d2ae-400d-a05b-e37a57bf376c"
      },
      "execution_count": 4,
      "outputs": [
        {
          "output_type": "execute_result",
          "data": {
            "text/plain": [
              "[True, True, False, False, True, True, True, True]"
            ]
          },
          "metadata": {},
          "execution_count": 4
        }
      ]
    },
    {
      "cell_type": "code",
      "source": [
        "P_imp_not_Q = [neg_imp(P_col[i],Q_col[i]) for i in range(8)]\n",
        "P_imp_not_Q"
      ],
      "metadata": {
        "colab": {
          "base_uri": "https://localhost:8080/"
        },
        "id": "ESiPT4K4vfEp",
        "outputId": "8e3786a1-642a-44b3-8060-d064f53155f8"
      },
      "execution_count": 5,
      "outputs": [
        {
          "output_type": "execute_result",
          "data": {
            "text/plain": [
              "[True, True, True, True, True, True, False, False]"
            ]
          },
          "metadata": {},
          "execution_count": 5
        }
      ]
    },
    {
      "cell_type": "code",
      "source": [
        "Q_or_R = [Q_col[i] or P_col[i] for i in range(8)]\n",
        "Q_or_R"
      ],
      "metadata": {
        "colab": {
          "base_uri": "https://localhost:8080/"
        },
        "id": "wvEtyzOvvtRh",
        "outputId": "6ef9bfa1-6e0b-47b4-ff19-6e09f39619c7"
      },
      "execution_count": 8,
      "outputs": [
        {
          "output_type": "execute_result",
          "data": {
            "text/plain": [
              "[False, False, True, True, True, True, True, True]"
            ]
          },
          "metadata": {},
          "execution_count": 8
        }
      ]
    },
    {
      "cell_type": "code",
      "source": [
        "KB = [Q_imp_P[i] and P_imp_not_Q[i] and Q_or_R[i] for i in range(8)]\n",
        "KB"
      ],
      "metadata": {
        "colab": {
          "base_uri": "https://localhost:8080/"
        },
        "id": "D0OGk58Kv5Pj",
        "outputId": "bf23b1fa-8932-456f-c50e-b2e18b712ee9"
      },
      "execution_count": 19,
      "outputs": [
        {
          "output_type": "execute_result",
          "data": {
            "text/plain": [
              "[False, False, False, False, True, True, False, False]"
            ]
          },
          "metadata": {},
          "execution_count": 19
        }
      ]
    },
    {
      "cell_type": "code",
      "source": [
        "print(\"KB entails R\",entail(KB,R_col))"
      ],
      "metadata": {
        "colab": {
          "base_uri": "https://localhost:8080/"
        },
        "id": "kGNODwlXvAup",
        "outputId": "24351fbf-c22c-4c1f-a946-e20a004f9d11"
      },
      "execution_count": 24,
      "outputs": [
        {
          "output_type": "stream",
          "name": "stdout",
          "text": [
            "KB entails R False\n"
          ]
        }
      ]
    },
    {
      "cell_type": "code",
      "source": [
        "R_imp_P = [imp(R_col[i],P_col[i]) for i in range(8)]\n",
        "print(\"KB entails R->P\",entail(KB,R_imp_P))"
      ],
      "metadata": {
        "colab": {
          "base_uri": "https://localhost:8080/"
        },
        "id": "f7qlJk6MwRoS",
        "outputId": "5b1cb863-57a5-4912-ca5e-aea099f94b21"
      },
      "execution_count": 21,
      "outputs": [
        {
          "output_type": "stream",
          "name": "stdout",
          "text": [
            "KB entails R->P True\n"
          ]
        }
      ]
    },
    {
      "cell_type": "code",
      "source": [
        "Q_imp_R = [imp(Q_col[i],R_col[i]) for i in range(8)]\n",
        "print(\"KB entails Q->R\",entail(KB,Q_imp_R))"
      ],
      "metadata": {
        "colab": {
          "base_uri": "https://localhost:8080/"
        },
        "id": "D7EVY9YMwurD",
        "outputId": "dd9483d5-be13-4e41-a2f6-937e18f5426f"
      },
      "execution_count": 22,
      "outputs": [
        {
          "output_type": "stream",
          "name": "stdout",
          "text": [
            "KB entails Q->R True\n"
          ]
        }
      ]
    }
  ]
}